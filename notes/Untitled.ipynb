{
 "cells": [
  {
   "cell_type": "markdown",
   "metadata": {},
   "source": [
    "# 高頻度裁定取引へのPCAの応用\n",
    "\n",
    "参考: [Developing High-Frequency Equities Trading Models](https://dspace.mit.edu/bitstream/handle/1721.1/59122/658860705-MIT.pdf?sequence=2)\n",
    "\n",
    "不確実性によるリスクは６つに分類できる。\n",
    "\n",
    "* レベル1: 「不確実性もリスクも全くない状態」 ... 系に対して自分がラプラスの悪魔である状態\n",
    "* 　レベル2: 「不確実性はないが、リスクがある状態」 ... 系が確率的な振る舞いをするため、正確なアウトカムは分からないが、ルール、オッズ、あるいはその他系に影響を与える要因全てが既知の状態\n",
    "* レベル3: 「不確実性が完全に削減可能な状態」 ... 統計的ツールによって十分な量の情報が手に入り、情報が増えれば増えるほどLevel-2に近づくと保証される状態\n",
    "* レベル4: 「不確実性が部分的に削減可能な状態」 ... 観測データからの、背後にある事象の推論に制限がかかっている状態。具体的にはデータの生成モデルが以下のいずれかに当てはまる場合\n",
    " 1. 時間によるパラメータの変化があまりに激しすぎて推定できない\n",
    " 2. 振る舞いが非線形的過ぎて正しく推定できない\n",
    " 3. 非定常性と非エルゴード性が強すぎて大数の法則、中心極限定理といった推定に必要な条件が適用できない。\n",
    " 4. 系外からの不可知の情報からの影響が大きい。\n",
    "* レベル5: 「不確実性が原理的になくすことができない状態」 ... 哲学の扱う範囲\n",
    "* レベル∞: 「不確実性が理解できない状態」 ... 「理解など存在しない。一切皆苦」\n",
    "\n"
   ]
  },
  {
   "cell_type": "code",
   "execution_count": null,
   "metadata": {
    "collapsed": true
   },
   "outputs": [],
   "source": []
  }
 ],
 "metadata": {
  "kernelspec": {
   "display_name": "Python 3",
   "language": "python",
   "name": "python3"
  },
  "language_info": {
   "codemirror_mode": {
    "name": "ipython",
    "version": 3
   },
   "file_extension": ".py",
   "mimetype": "text/x-python",
   "name": "python",
   "nbconvert_exporter": "python",
   "pygments_lexer": "ipython3",
   "version": "3.5.2"
  }
 },
 "nbformat": 4,
 "nbformat_minor": 2
}
